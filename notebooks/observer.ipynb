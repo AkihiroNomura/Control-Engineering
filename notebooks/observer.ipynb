{
 "cells": [
  {
   "cell_type": "markdown",
   "metadata": {},
   "source": [
    "# 同一次元オブザーバー"
   ]
  },
  {
   "cell_type": "markdown",
   "metadata": {},
   "source": [
    "次のシステムについて考える。これのオブザーバー極を-3, -2±jとしてオブザーバーゲインを設計する ([2]の7章演習問題の問1を参照)。\n",
    "$$\n",
    "\\dot{x} = \\left[\n",
    "\\begin{matrix} \n",
    "-1 & 0 & 2 \\\\ \n",
    "1 & -1 & 0 \\\\ \n",
    "0 & 1 & -2\n",
    "\\end{matrix}\n",
    "\\right]x + \n",
    "\\left[\n",
    "\\begin{matrix} \n",
    "0 & 1 \\\\ \n",
    "0 & 0 \\\\\n",
    "1 & 0\n",
    "\\end{matrix}\n",
    "\\right]u, \\:\n",
    "y = \\left[\n",
    "\\begin{matrix} \n",
    "1 & 0 & 1\n",
    "\\end{matrix}\n",
    "\\right]x\n",
    "$$"
   ]
  },
  {
   "cell_type": "code",
   "execution_count": 1,
   "metadata": {},
   "outputs": [],
   "source": [
    "import numpy as np\n",
    "from control.matlab import *\n",
    "import matplotlib.pyplot as plt\n",
    "%matplotlib inline"
   ]
  },
  {
   "cell_type": "code",
   "execution_count": 14,
   "metadata": {},
   "outputs": [],
   "source": [
    "A = '-1 0 2; 1 -1 0; 0 1 -2'\n",
    "B = '0 1; 0 0; 1 0'\n",
    "C = '1 0 1'\n",
    "D = '0 0'\n",
    "P = ss(A, B, C, D)"
   ]
  },
  {
   "cell_type": "code",
   "execution_count": 15,
   "metadata": {},
   "outputs": [
    {
     "name": "stdout",
     "output_type": "stream",
     "text": [
      "A = [[-1  0  2]\n",
      " [ 1 -1  0]\n",
      " [ 0  1 -2]]\n",
      "\n",
      "B = [[0 1]\n",
      " [0 0]\n",
      " [1 0]]\n",
      "\n",
      "C = [[1 0 1]]\n",
      "\n",
      "D = [[0 0]]\n",
      "\n"
     ]
    }
   ],
   "source": [
    "print(P)"
   ]
  },
  {
   "cell_type": "code",
   "execution_count": 44,
   "metadata": {},
   "outputs": [
    {
     "data": {
      "text/plain": [
       "array([-6.32980743e-17+0.j, -2.00000000e+00+1.j, -2.00000000e+00-1.j])"
      ]
     },
     "execution_count": 44,
     "metadata": {},
     "output_type": "execute_result"
    }
   ],
   "source": [
    "np.linalg.eigvals(P.A)"
   ]
  },
  {
   "cell_type": "markdown",
   "metadata": {},
   "source": [
    "### 可観測性の確認\n",
    "正則であるため問題なし。"
   ]
  },
  {
   "cell_type": "code",
   "execution_count": 47,
   "metadata": {},
   "outputs": [
    {
     "name": "stdout",
     "output_type": "stream",
     "text": [
      "Uo = \n",
      " [[ 1  0  1]\n",
      " [-1  1  0]\n",
      " [ 2 -1 -2]]\n",
      "det(Uo) = -3.0000000000000004\n",
      "rank(Uo) =  3\n"
     ]
    }
   ],
   "source": [
    "Uo = obsv(P.A, C)\n",
    "print('Uo = \\n', Uo)\n",
    "print('det(Uo) =', np.linalg.det(Uo))\n",
    "print('rank(Uo) = ', np.linalg.matrix_rank(Uo))"
   ]
  },
  {
   "cell_type": "markdown",
   "metadata": {},
   "source": [
    "### オブザーバーゲインを求める\n",
    "アッカーマンのアルゴリズムを利用する。"
   ]
  },
  {
   "cell_type": "code",
   "execution_count": 17,
   "metadata": {},
   "outputs": [],
   "source": [
    "observer_poles = [-3, -2+1j, -2-1j]\n",
    "L = -acker(P.A.T, P.C.T, observer_poles).T"
   ]
  },
  {
   "cell_type": "code",
   "execution_count": 18,
   "metadata": {},
   "outputs": [
    {
     "name": "stdout",
     "output_type": "stream",
     "text": [
      "[[-2.]\n",
      " [-2.]\n",
      " [-1.]]\n"
     ]
    }
   ],
   "source": [
    "print(L)"
   ]
  },
  {
   "cell_type": "code",
   "execution_count": 19,
   "metadata": {},
   "outputs": [
    {
     "data": {
      "text/plain": [
       "array([-2.+1.j, -2.-1.j, -3.+0.j])"
      ]
     },
     "execution_count": 19,
     "metadata": {},
     "output_type": "execute_result"
    }
   ],
   "source": [
    "np.linalg.eigvals(P.A+L*P.C)"
   ]
  },
  {
   "cell_type": "markdown",
   "metadata": {},
   "source": [
    "## 参考文献\n",
    "[1] 南裕樹 (2019) 『Pythonによる制御工学入門』 オーム社  \n",
    "[2] 吉川恒夫・井村順一 (1994) 現代制御理論 昭晃堂  "
   ]
  },
  {
   "cell_type": "code",
   "execution_count": null,
   "metadata": {},
   "outputs": [],
   "source": []
  }
 ],
 "metadata": {
  "kernelspec": {
   "display_name": "Python 3",
   "language": "python",
   "name": "python3"
  },
  "language_info": {
   "codemirror_mode": {
    "name": "ipython",
    "version": 3
   },
   "file_extension": ".py",
   "mimetype": "text/x-python",
   "name": "python",
   "nbconvert_exporter": "python",
   "pygments_lexer": "ipython3",
   "version": "3.6.8"
  }
 },
 "nbformat": 4,
 "nbformat_minor": 2
}
